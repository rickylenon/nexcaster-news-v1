{
  "cells": [
    {
      "cell_type": "raw",
      "metadata": {
        "vscode": {
          "languageId": "raw"
        }
      },
      "source": [
        "# 🚀 Connect Google Colab to Local VS Code\n",
        "\n",
        "This notebook sets up an SSH tunnel so you can connect your local VS Code to Google Colab's GPU runtime.\n",
        "\n",
        "## ⚠️ IMPORTANT: Run this in Google Colab with GPU runtime!\n",
        "\n",
        "**Steps:**\n",
        "1. Upload this notebook to Google Colab\n",
        "2. Change runtime to GPU (Runtime → Change runtime type → GPU)\n",
        "3. Run the cells below\n",
        "4. Follow the connection instructions\n"
      ]
    },
    {
      "cell_type": "code",
      "execution_count": 1,
      "metadata": {},
      "outputs": [
        {
          "name": "stdout",
          "output_type": "stream",
          "text": [
            "🔍 Checking GPU availability...\n",
            "❌ No GPU found! Make sure to set Runtime → Change runtime type → GPU\n",
            "   Then restart and run this cell again.\n"
          ]
        }
      ],
      "source": [
        "# Step 1: Verify GPU is available\n",
        "print(\"🔍 Checking GPU availability...\")\n",
        "\n",
        "import torch\n",
        "import subprocess\n",
        "import os\n",
        "\n",
        "if torch.cuda.is_available():\n",
        "    gpu_name = torch.cuda.get_device_name(0)\n",
        "    print(f\"✅ GPU Available: {gpu_name}\")\n",
        "    print(f\"✅ CUDA Version: {torch.version.cuda}\")\n",
        "    print(f\"✅ PyTorch Version: {torch.__version__}\")\n",
        "else:\n",
        "    print(\"❌ No GPU found! Make sure to set Runtime → Change runtime type → GPU\")\n",
        "    print(\"   Then restart and run this cell again.\")\n"
      ]
    },
    {
      "cell_type": "code",
      "execution_count": null,
      "metadata": {},
      "outputs": [],
      "source": [
        "# Step 2: Install SSH tunnel package\n",
        "print(\"📦 Installing colab-ssh...\")\n",
        "\n",
        "%pip install colab-ssh --quiet\n",
        "\n",
        "print(\"✅ Installation complete!\")\n"
      ]
    },
    {
      "cell_type": "code",
      "execution_count": null,
      "metadata": {},
      "outputs": [],
      "source": [
        "# Step 3: Create SSH tunnel\n",
        "print(\"🔗 Setting up SSH tunnel...\")\n",
        "\n",
        "from colab_ssh import launch_ssh_cloudflared\n",
        "import getpass\n",
        "\n",
        "# Set a password for SSH connection\n",
        "password = getpass.getpass(\"Enter a password for SSH connection: \")\n",
        "\n",
        "print(\"🚀 Starting SSH tunnel...\")\n",
        "print(\"⏳ This may take 1-2 minutes...\")\n",
        "\n",
        "# Launch the SSH tunnel\n",
        "launch_ssh_cloudflared(password=password)\n"
      ]
    },
    {
      "cell_type": "raw",
      "metadata": {
        "vscode": {
          "languageId": "raw"
        }
      },
      "source": [
        "# 📋 Connection Instructions\n",
        "\n",
        "After running the cell above, you'll see output with connection details. Look for something like:\n",
        "\n",
        "```\n",
        "SSH command: ssh root@0.tcp.ngrok.io -p 12345\n",
        "```\n",
        "\n",
        "## 🔌 Connect VS Code:\n",
        "\n",
        "1. **Install Remote-SSH extension** in VS Code\n",
        "2. **Open Command Palette** (Cmd/Ctrl + Shift + P)\n",
        "3. **Type: \"Remote-SSH: Connect to Host\"**\n",
        "4. **Enter the SSH command** from the output above\n",
        "5. **Enter the password** you set in Step 3\n",
        "6. **Select \"Linux\"** when prompted for platform\n",
        "\n",
        "## ✅ You're Connected!\n",
        "\n",
        "Once connected, you'll have:\n",
        "- Full VS Code interface on Colab's GPU machine\n",
        "- Access to GPU for your code\n",
        "- File browser for Colab's filesystem\n",
        "- Integrated terminal with GPU access\n"
      ]
    }
  ],
  "metadata": {
    "kernelspec": {
      "display_name": "venv_wav2lip",
      "language": "python",
      "name": "python3"
    },
    "language_info": {
      "codemirror_mode": {
        "name": "ipython",
        "version": 3
      },
      "file_extension": ".py",
      "mimetype": "text/x-python",
      "name": "python",
      "nbconvert_exporter": "python",
      "pygments_lexer": "ipython3",
      "version": "3.11.8"
    }
  },
  "nbformat": 4,
  "nbformat_minor": 2
}
